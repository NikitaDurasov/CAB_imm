{
 "cells": [
  {
   "cell_type": "code",
   "execution_count": 1,
   "metadata": {
    "collapsed": false
   },
   "outputs": [
    {
     "name": "stderr",
     "output_type": "stream",
     "text": [
      "/Users/Macbook/anaconda/lib/python2.7/site-packages/pandas/computation/__init__.py:19: UserWarning: The installed version of numexpr 2.4.4 is not supported in pandas and will be not be used\n",
      "\n",
      "  UserWarning)\n"
     ]
    }
   ],
   "source": [
    "import matplotlib.pyplot as plt \n",
    "import matplotlib.cm as cm\n",
    "import numpy as np\n",
    "import pandas as pd \n",
    "from Bio import SeqIO\n",
    "from collections import Counter, defaultdict, OrderedDict\n",
    "import nltk\n",
    "from nltk.util import ngrams\n",
    "import re\n",
    "from sklearn.linear_model import Lasso, LinearRegression, SGDClassifier, LogisticRegression\n",
    "import itertools \n",
    "import operator\n",
    "import func_tools \n",
    "from sklearn.model_selection import cross_val_score\n",
    "import pickle\n",
    "import seaborn as sb\n",
    "from sklearn.preprocessing import LabelEncoder, StandardScaler, scale\n",
    "from sklearn.decomposition import PCA\n",
    "from sklearn.manifold import TSNE\n",
    "import matplotlib.cm as cm \n",
    "from sklearn.model_selection import train_test_split\n",
    "from sklearn.model_selection import GridSearchCV\n",
    "from sklearn.metrics import classification_report\n",
    "from sklearn.feature_selection import f_regression, SelectKBest\n",
    "import statsmodels.api as sm\n",
    "from sklearn.preprocessing import OneHotEncoder\n",
    "from sklearn.metrics import accuracy_score, roc_auc_score, cohen_kappa_score\n",
    "from sklearn.ensemble import RandomForestClassifier\n",
    "from scipy.stats import chi2_contingency\n",
    "import scipy.stats as scs\n",
    "from itertools import combinations\n",
    "%matplotlib inline "
   ]
  },
  {
   "cell_type": "code",
   "execution_count": 15,
   "metadata": {
    "collapsed": true
   },
   "outputs": [],
   "source": [
    "age3_df = pd.read_csv('data/age3/age3_df.csv', index_col='Unnamed: 0')\n",
    "flu_df = pd.read_csv('data/flu/flu_df.csv', index_col='Unnamed: 0')"
   ]
  },
  {
   "cell_type": "code",
   "execution_count": 31,
   "metadata": {
    "collapsed": false
   },
   "outputs": [
    {
     "name": "stdout",
     "output_type": "stream",
     "text": [
      "age_df roc_auc:  0.962428492819\n"
     ]
    }
   ],
   "source": [
    "cls = LogisticRegression(penalty='l1')\n",
    "clf = GridSearchCV(estimator=cls, param_grid={'C': np.linspace(1e-5, 1, 10)}, scoring='roc_auc')\n",
    "\n",
    "clf.fit(scale(flu_df[['size', 'value1']]), flu_df.quality_imp)\n",
    "\n",
    "print \"age_df roc_auc: \", roc_auc_score(age3_df.quality_imp, clf.best_estimator_.predict_proba(scale(age3_df[['size', 'value1']]))[:,1])"
   ]
  },
  {
   "cell_type": "code",
   "execution_count": 33,
   "metadata": {
    "collapsed": false
   },
   "outputs": [
    {
     "name": "stdout",
     "output_type": "stream",
     "text": [
      "age_df roc_auc:  0.942997374223\n"
     ]
    }
   ],
   "source": [
    "cls = LogisticRegression(penalty='l1')\n",
    "clf = GridSearchCV(estimator=cls, param_grid={'C': np.linspace(1e-5, 1, 10)}, scoring='roc_auc')\n",
    "\n",
    "clf.fit(np.hstack([flu_df[['second_vote_std', 'size', 'CDR_sum']],flu_df[['pos_ex_value_sum','pos1_in_CDR3','pos2_in_CDR3','pos3_in_CDR3']]]), flu_df.quality_imp)\n",
    "\n",
    "print \"age_df roc_auc: \", roc_auc_score(age3_df.quality_imp, clf.best_estimator_.predict_proba(age3_df[['second_vote_std', 'size', 'CDR_sum', 'pos_ex_value_sum','pos1_in_CDR3','pos2_in_CDR3','pos3_in_CDR3']])[:,1])"
   ]
  },
  {
   "cell_type": "code",
   "execution_count": 30,
   "metadata": {
    "collapsed": false
   },
   "outputs": [
    {
     "name": "stdout",
     "output_type": "stream",
     "text": [
      "age_df roc_auc:  0.5\n"
     ]
    }
   ],
   "source": [
    "cls = RandomForestClassifier(n_estimators=1000)\n",
    "clf = GridSearchCV(estimator=cls, param_grid={'max_depth': [10]}, scoring='roc_auc')\n",
    "\n",
    "clf.fit(flu_df[['value1', 'size']], flu_df.quality_imp)\n",
    "\n",
    "print \"age_df roc_auc: \", roc_auc_score(age3_df.quality_imp, clf.best_estimator_.predict_proba(age3_df[['size','value1']])[:,1])"
   ]
  },
  {
   "cell_type": "code",
   "execution_count": 29,
   "metadata": {
    "collapsed": false
   },
   "outputs": [
    {
     "name": "stdout",
     "output_type": "stream",
     "text": [
      " age_df roc_auc:  0.96899847476\n"
     ]
    }
   ],
   "source": [
    "cls = RandomForestClassifier(n_estimators=1000)\n",
    "clf = GridSearchCV(estimator=cls, param_grid={'max_depth': [10]}, scoring='roc_auc')\n",
    "\n",
    "clf.fit(flu_df[['second_vote_std', 'size', 'CDR_sum', 'pos_ex_value_sum','pos1_in_CDR3','pos2_in_CDR3','pos3_in_CDR3']], flu_df.quality_imp)\n",
    "\n",
    "print \"age_df roc_auc: \", roc_auc_score(age3_df.quality_imp, clf.best_estimator_.predict_proba(age3_df[['second_vote_std', 'size', 'CDR_sum', 'pos_ex_value_sum','pos1_in_CDR3','pos2_in_CDR3','pos3_in_CDR3']])[:,1])"
   ]
  },
  {
   "cell_type": "code",
   "execution_count": 41,
   "metadata": {
    "collapsed": false
   },
   "outputs": [
    {
     "name": "stdout",
     "output_type": "stream",
     "text": [
      "age_df roc_auc:  0.960012247397\n"
     ]
    }
   ],
   "source": [
    "cls = LogisticRegression(penalty='l1')\n",
    "clf = GridSearchCV(estimator=cls, param_grid={'C': np.linspace(1e-5, 1, 10)}, scoring='roc_auc')\n",
    "\n",
    "X_flu_train, X_flu_test, y_flu_train, y_flu_test = train_test_split(pd.DataFrame(scale(flu_df[['value1', 'size']]), index=flu_df.index), flu_df.quality_imp, \n",
    "                                                                    test_size=0.2, stratify = flu_df.quality_imp)\n",
    "X_age3_train, X_age3_test, y_age3_train, y_age3_test = train_test_split(pd.DataFrame(scale(age3_df[['value1', 'size']]), index=age3_df.index), age3_df.quality_imp, \n",
    "                                                                    test_size=0.2, stratify = age3_df.quality_imp)\n",
    "X_train = pd.concat([X_flu_train, X_age3_train])\n",
    "X_test = pd.concat([X_flu_test, X_age3_test])\n",
    "y_train = pd.concat([y_flu_train, y_age3_train])\n",
    "y_test = pd.concat([y_flu_test, y_age3_test])\n",
    "\n",
    "clf.fit(X_train, y_train)\n",
    "\n",
    "print \"age_df roc_auc: \", roc_auc_score(y_test, clf.best_estimator_.predict_proba(X_test)[:,1])"
   ]
  },
  {
   "cell_type": "code",
   "execution_count": 47,
   "metadata": {
    "collapsed": false
   },
   "outputs": [
    {
     "name": "stdout",
     "output_type": "stream",
     "text": [
      "test roc_auc:  0.971540890698\n",
      "age_test roc_auc:  0.934293643605\n",
      "flu_test roc_auc:  0.975795356566\n"
     ]
    }
   ],
   "source": [
    "cls = LogisticRegression(penalty='l1')\n",
    "clf = GridSearchCV(estimator=cls, param_grid={'C': np.linspace(1e-5, 1, 10)}, scoring='roc_auc')\n",
    "\n",
    "X_flu_train, X_flu_test, y_flu_train, y_flu_test = train_test_split(pd.DataFrame(np.hstack([flu_df[['second_vote_std', 'size', \n",
    "                                                                    'CDR_sum']],flu_df[['pos_ex_value_sum','pos1_in_CDR3',\n",
    "                                                                    'pos2_in_CDR3','pos3_in_CDR3']]]), index=flu_df.index), \n",
    "                                                                    flu_df.quality_imp, \n",
    "                                                                    test_size=0.2, stratify = flu_df.quality_imp)\n",
    "\n",
    "X_age3_train, X_age3_test, y_age3_train, y_age3_test = train_test_split(pd.DataFrame(np.hstack([age3_df[['second_vote_std', 'size', \n",
    "                                                                    'CDR_sum']],age3_df[['pos_ex_value_sum','pos1_in_CDR3',\n",
    "                                                                    'pos2_in_CDR3','pos3_in_CDR3']]]),index=age3_df.index), \n",
    "                                                                    age3_df.quality_imp, \n",
    "                                                                    test_size=0.2, stratify = age3_df.quality_imp)\n",
    "X_train = pd.concat([X_flu_train, X_age3_train])\n",
    "X_test = pd.concat([X_flu_test, X_age3_test])\n",
    "y_train = pd.concat([y_flu_train, y_age3_train])\n",
    "y_test = pd.concat([y_flu_test, y_age3_test])\n",
    "\n",
    "clf.fit(X_train, y_train)\n",
    "\n",
    "print \"test roc_auc: \", roc_auc_score(y_test, clf.best_estimator_.predict_proba(X_test)[:,1])\n",
    "print \"age_test roc_auc: \", roc_auc_score(y_age3_test, clf.best_estimator_.predict_proba(X_age3_test)[:,1])\n",
    "print \"flu_test roc_auc: \", roc_auc_score(y_flu_test, clf.best_estimator_.predict_proba(X_flu_test)[:,1])"
   ]
  },
  {
   "cell_type": "code",
   "execution_count": 48,
   "metadata": {
    "collapsed": false
   },
   "outputs": [
    {
     "name": "stdout",
     "output_type": "stream",
     "text": [
      "age_df roc_auc:  0.966871150175\n"
     ]
    }
   ],
   "source": [
    "cls = RandomForestClassifier(n_estimators=100)\n",
    "clf = GridSearchCV(estimator=cls, param_grid={'max_depth': range(1,2,10)}, scoring='roc_auc')\n",
    "\n",
    "X_flu_train, X_flu_test, y_flu_train, y_flu_test = train_test_split(pd.DataFrame(scale(flu_df[['value1', 'size']]), index=flu_df.index), flu_df.quality_imp, \n",
    "                                                                    test_size=0.2, stratify = flu_df.quality_imp)\n",
    "X_age3_train, X_age3_test, y_age3_train, y_age3_test = train_test_split(pd.DataFrame(scale(age3_df[['value1', 'size']]), index=age3_df.index), age3_df.quality_imp, \n",
    "                                                                    test_size=0.2, stratify = age3_df.quality_imp)\n",
    "X_train = pd.concat([X_flu_train, X_age3_train])\n",
    "X_test = pd.concat([X_flu_test, X_age3_test])\n",
    "y_train = pd.concat([y_flu_train, y_age3_train])\n",
    "y_test = pd.concat([y_flu_test, y_age3_test])\n",
    "\n",
    "clf.fit(X_train, y_train)\n",
    "\n",
    "print \"age_df roc_auc: \", roc_auc_score(y_test, clf.best_estimator_.predict_proba(X_test)[:,1])"
   ]
  },
  {
   "cell_type": "code",
   "execution_count": 55,
   "metadata": {
    "collapsed": false
   },
   "outputs": [
    {
     "name": "stdout",
     "output_type": "stream",
     "text": [
      "test roc_auc:  0.957433209659\n",
      "age_test roc_auc:  0.919543533292\n",
      "flu_test roc_auc:  0.967081260886\n"
     ]
    }
   ],
   "source": [
    "cls = RandomForestClassifier(n_estimators=3000)\n",
    "clf = GridSearchCV(estimator=cls, param_grid={'max_depth': range(1,2,10)}, scoring='roc_auc')\n",
    "\n",
    "X_flu_train, X_flu_test, y_flu_train, y_flu_test = train_test_split(pd.DataFrame(np.hstack([flu_df[['second_vote_std', 'size', \n",
    "                                                                    'CDR_sum','pos_ex_value_sum']],flu_df[['pos1_in_CDR3',\n",
    "                                                                    'pos2_in_CDR3','pos3_in_CDR3']]]), index=flu_df.index), \n",
    "                                                                    flu_df.quality_imp, \n",
    "                                                                    test_size=0.2, stratify = flu_df.quality_imp)\n",
    "\n",
    "X_age3_train, X_age3_test, y_age3_train, y_age3_test = train_test_split(pd.DataFrame(np.hstack([age3_df[['second_vote_std', 'size', \n",
    "                                                                    'CDR_sum', 'pos_ex_value_sum']],age3_df[['pos1_in_CDR3',\n",
    "                                                                    'pos2_in_CDR3','pos3_in_CDR3']]]),index=age3_df.index), \n",
    "                                                                    age3_df.quality_imp, \n",
    "                                                                    test_size=0.2, stratify = age3_df.quality_imp)\n",
    "X_train = pd.concat([X_flu_train, X_age3_train])\n",
    "X_test = pd.concat([X_flu_test, X_age3_test])\n",
    "y_train = pd.concat([y_flu_train, y_age3_train])\n",
    "y_test = pd.concat([y_flu_test, y_age3_test])\n",
    "\n",
    "clf.fit(X_train, y_train)\n",
    "\n",
    "print \"test roc_auc: \", roc_auc_score(y_test, clf.best_estimator_.predict_proba(X_test)[:,1])\n",
    "print \"age_test roc_auc: \", roc_auc_score(y_age3_test, clf.best_estimator_.predict_proba(X_age3_test)[:,1])\n",
    "print \"flu_test roc_auc: \", roc_auc_score(y_flu_test, clf.best_estimator_.predict_proba(X_flu_test)[:,1])"
   ]
  },
  {
   "cell_type": "code",
   "execution_count": 52,
   "metadata": {
    "collapsed": true
   },
   "outputs": [],
   "source": [
    "RandomForestClassifier?"
   ]
  },
  {
   "cell_type": "code",
   "execution_count": null,
   "metadata": {
    "collapsed": true
   },
   "outputs": [],
   "source": []
  }
 ],
 "metadata": {
  "kernelspec": {
   "display_name": "Python 2",
   "language": "python",
   "name": "python2"
  },
  "language_info": {
   "codemirror_mode": {
    "name": "ipython",
    "version": 2
   },
   "file_extension": ".py",
   "mimetype": "text/x-python",
   "name": "python",
   "nbconvert_exporter": "python",
   "pygments_lexer": "ipython2",
   "version": "2.7.12"
  }
 },
 "nbformat": 4,
 "nbformat_minor": 0
}
